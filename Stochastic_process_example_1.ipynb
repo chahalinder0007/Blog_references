{
 "cells": [
  {
   "cell_type": "code",
   "execution_count": 1,
   "metadata": {},
   "outputs": [
    {
     "name": "stderr",
     "output_type": "stream",
     "text": [
      "/home/inder/anaconda3/lib/python3.7/site-packages/statsmodels/tools/_testing.py:19: FutureWarning: pandas.util.testing is deprecated. Use the functions in the public API at pandas.testing instead.\n",
      "  import pandas.util.testing as tm\n"
     ]
    }
   ],
   "source": [
    "import numpy as np\n",
    "from random import choice\n",
    "import matplotlib.pyplot as plt\n",
    "\n",
    "import seaborn as sns\n",
    "from base_file import CreateVideo\n",
    "\n",
    "#constructing the video writer\n",
    "\n",
    "Createvideo = CreateVideo(fps=80)\n"
   ]
  },
  {
   "cell_type": "code",
   "execution_count": 2,
   "metadata": {},
   "outputs": [],
   "source": [
    "colors = [\"b\",\n",
    "\"g\",\n",
    "\"r\",\n",
    "\"c\",\n",
    "\"m\",\n",
    "\"y\",\n",
    "\"k\"]"
   ]
  },
  {
   "cell_type": "markdown",
   "metadata": {},
   "source": [
    "# The setup of the experiment is like this.\n",
    "\n",
    "1. There are two players, one X and the other Y\n",
    "2. Each takes turn to flip a fair coin.\n",
    "3. Before flipping this coin, each one bets one dollar(only because it sounds cool) on the outcome.\n",
    "4. If heads comes X wins all the money (1 dollar of Y and takes back his own dollar as well), similarly if tails comes Y takes all the money.\n",
    "5. The game will go on until X wins 100 dollars or loose 100 dollars"
   ]
  },
  {
   "cell_type": "code",
   "execution_count": 3,
   "metadata": {
    "scrolled": true
   },
   "outputs": [
    {
     "data": {
      "image/png": "[encoded data removed]",
      "text/plain": [
       "<Figure size 432x288 with 1 Axes>"
      ]
     },
     "metadata": {
      "needs_background": "light"
     },
     "output_type": "display_data"
    }
   ],
   "source": [
    "x_win = 0\n",
    "all_counts=[]\n",
    "\n",
    "plt,l,fig,writer = Createvideo.create_base(markersize=0.1,color = colors[0])\n",
    "\n",
    "with writer.saving(fig,f\"rough_videos/test_100.mp4\",100):\n",
    "    for i in range(7):\n",
    "        l.set_color(colors[i])\n",
    "\n",
    "        class store:\n",
    "            ttl_amnt_X_won = 0\n",
    "            ttl_amnt_Y_won = 0\n",
    "            num_wins_X = 0\n",
    "            num_wins_Y = 0\n",
    "            X_win_list = []\n",
    "\n",
    "        #here 0 is heads and 1 is tails\n",
    "        heads_or_tails = [0,1]\n",
    "\n",
    "        def one_iteration(heads_or_tails = heads_or_tails,store = store):\n",
    "\n",
    "            current_outcome = choice(heads_or_tails)\n",
    "\n",
    "            #meaning X won and its a heads\n",
    "        #     print(store.ttl_amnt_X_won)\n",
    "            if current_outcome:\n",
    "                store.ttl_amnt_X_won += 1\n",
    "                store.ttl_amnt_Y_won -= 1\n",
    "                store.num_wins_X += 1\n",
    "\n",
    "            else:\n",
    "                store.ttl_amnt_Y_won += 1\n",
    "                store.ttl_amnt_X_won -= 1\n",
    "                store.num_wins_Y += 1\n",
    "\n",
    "            store.X_win_list.append(store.ttl_amnt_X_won)\n",
    "\n",
    "            return\n",
    "\n",
    "        count = 0\n",
    "        while not (store.ttl_amnt_X_won >50 or store.ttl_amnt_X_won <-50):\n",
    "            count+=1\n",
    "            one_iteration()\n",
    "    #             plt.xlim(-5,count)\n",
    "            #setting the upper limit\n",
    "            l.set_data(list(range(count)),store.X_win_list)\n",
    "            writer.grab_frame()\n",
    "    #         if :\n",
    "    #             break\n",
    "\n",
    "        if store.ttl_amnt_X_won >= 50:\n",
    "            x_win+=1\n",
    "            all_counts.append(count)"
   ]
  }
 ],
 "metadata": {
  "kernelspec": {
   "display_name": "Python 3",
   "language": "python",
   "name": "python3"
  },
  "language_info": {
   "codemirror_mode": {
    "name": "ipython",
    "version": 3
   },
   "file_extension": ".py",
   "mimetype": "text/x-python",
   "name": "python",
   "nbconvert_exporter": "python",
   "pygments_lexer": "ipython3",
   "version": "3.7.4"
  }
 },
 "nbformat": 4,
 "nbformat_minor": 4
}
